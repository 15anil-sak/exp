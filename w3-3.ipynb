{
 "cells": [
  {
   "cell_type": "code",
   "execution_count": 2,
   "metadata": {},
   "outputs": [
    {
     "name": "stdout",
     "output_type": "stream",
     "text": [
      "the double value: 68\n"
     ]
    }
   ],
   "source": [
    "#basics 1:16\n",
    "x=int(input('enter a number:'))\n",
    "diff=17-x\n",
    "if x>17:\n",
    "  double=x*2\n",
    "  print('the double value:',double)\n",
    "else:\n",
    " print('the value is:',x)\n"
   ]
  },
  {
   "cell_type": "code",
   "execution_count": 3,
   "metadata": {},
   "outputs": [
    {
     "name": "stdout",
     "output_type": "stream",
     "text": [
      "6\n",
      "18\n"
     ]
    }
   ],
   "source": [
    "#basics 1:17\n",
    "def sum_integer(x,y,z):\n",
    "  sum =x+y+z\n",
    "  if x==y==z:\n",
    "    sum=sum*3\n",
    "  return sum\n",
    "print(sum_integer(1,2,3))\n",
    "print(sum_integer(2,2,2))"
   ]
  },
  {
   "cell_type": "code",
   "execution_count": 9,
   "metadata": {},
   "outputs": [],
   "source": [
    "class Sum:\n",
    "  def _init_(self,x,y,z):\n",
    "    self.x=x\n",
    "    self.y=y\n",
    "    self.z=z\n",
    "  def display(self):\n",
    "    print('x',self.x)\n",
    "    print('y',self.y)\n",
    "    print('z',self.z)\n",
    "    add=x+y+z\n",
    "    if x==y==z:\n",
    "      add=add*3\n",
    "      obj=Sum(2,2,2)\n",
    "      obj.display()\n",
    "      return obj\n"
   ]
  },
  {
   "cell_type": "code",
   "execution_count": 10,
   "metadata": {},
   "outputs": [
    {
     "name": "stdout",
     "output_type": "stream",
     "text": [
      "isevn\n",
      "isodd\n"
     ]
    }
   ],
   "source": [
    "#bascis 1:18\n",
    "def string(text):\n",
    "  if len(text)>=2 and text[:2]==\"is\":\n",
    "    return text\n",
    "  else:\n",
    "    return \"is\"+text\n",
    "print(string(\"isevn\"))\n",
    "print(string(\"odd\"))"
   ]
  },
  {
   "cell_type": "code",
   "execution_count": 11,
   "metadata": {},
   "outputs": [
    {
     "name": "stdout",
     "output_type": "stream",
     "text": [
      "anil\n",
      "anil\n",
      "anil\n",
      "anil\n",
      "anil\n"
     ]
    }
   ],
   "source": [
    "#basics 1:19\n",
    "name=input(\"enter a string:\")\n",
    "for i in range(0,5):\n",
    "   print(name)\n",
    "   \n"
   ]
  },
  {
   "cell_type": "code",
   "execution_count": 12,
   "metadata": {},
   "outputs": [
    {
     "name": "stdout",
     "output_type": "stream",
     "text": [
      "number is even\n"
     ]
    }
   ],
   "source": [
    "#basics 1:20\n",
    "def check(num):\n",
    "  if num%2==0:\n",
    "    print(\"number is even\")\n",
    "  else:\n",
    "    print(\"number is odd\")\n",
    "check(10)\n"
   ]
  },
  {
   "cell_type": "code",
   "execution_count": null,
   "metadata": {},
   "outputs": [],
   "source": []
  }
 ],
 "metadata": {
  "kernelspec": {
   "display_name": "Python 3",
   "language": "python",
   "name": "python3"
  },
  "language_info": {
   "codemirror_mode": {
    "name": "ipython",
    "version": 3
   },
   "file_extension": ".py",
   "mimetype": "text/x-python",
   "name": "python",
   "nbconvert_exporter": "python",
   "pygments_lexer": "ipython3",
   "version": "3.12.2"
  }
 },
 "nbformat": 4,
 "nbformat_minor": 2
}

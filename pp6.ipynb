{
 "cells": [
  {
   "cell_type": "code",
   "execution_count": 5,
   "metadata": {},
   "outputs": [
    {
     "name": "stdout",
     "output_type": "stream",
     "text": [
      "5\n"
     ]
    }
   ],
   "source": [
    "n = int(input(\"enster no.of players:\"))\n",
    "arr = map(int, input().split())\n",
    "arr=[2,3,6,6,5]\n",
    "arr.sort()\n",
    "arr=list(dict.fromkeys(arr))\n",
    "print(arr[-2])\n"
   ]
  },
  {
   "cell_type": "code",
   "execution_count": 12,
   "metadata": {},
   "outputs": [
    {
     "name": "stdout",
     "output_type": "stream",
     "text": [
      "[6, 5, 10]\n",
      "[1, 5, 9, 10]\n",
      "[9, 5, 1]\n",
      "None\n"
     ]
    }
   ],
   "source": [
    " \n",
    "def function(lost):\n",
    "    N = int(input())\n",
    "    lost=[]\n",
    "    lost.insert(0,5)\n",
    "    lost.insert(1,10)\n",
    "    lost.insert(0,6)\n",
    "    print(lost)\n",
    "    lost.remove(6)\n",
    "    lost.append(9)\n",
    "    lost.append(1)\n",
    "    lost.sort()\n",
    "    print(lost)\n",
    "    lost.pop()\n",
    "    lost.reverse()\n",
    "    print(lost)\n",
    "    lost=\"x\"\n",
    "print(function(\"x\"))"
   ]
  },
  {
   "cell_type": "code",
   "execution_count": null,
   "metadata": {},
   "outputs": [],
   "source": []
  },
  {
   "cell_type": "code",
   "execution_count": null,
   "metadata": {},
   "outputs": [],
   "source": []
  }
 ],
 "metadata": {
  "kernelspec": {
   "display_name": "Python 3",
   "language": "python",
   "name": "python3"
  },
  "language_info": {
   "codemirror_mode": {
    "name": "ipython",
    "version": 3
   },
   "file_extension": ".py",
   "mimetype": "text/x-python",
   "name": "python",
   "nbconvert_exporter": "python",
   "pygments_lexer": "ipython3",
   "version": "3.12.4"
  }
 },
 "nbformat": 4,
 "nbformat_minor": 2
}

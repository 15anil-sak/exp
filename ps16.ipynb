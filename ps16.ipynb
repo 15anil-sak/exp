{
 "cells": [
  {
   "cell_type": "code",
   "execution_count": 1,
   "metadata": {},
   "outputs": [
    {
     "name": "stdout",
     "output_type": "stream",
     "text": [
      "[[], [1], [2], [3], [4], [5], [1, 2], [1, 3], [1, 4], [1, 5], [2, 3], [2, 4], [2, 5], [3, 4], [3, 5], [4, 5], [1, 2, 3], [1, 2, 4], [1, 2, 5], [1, 3, 4], [1, 3, 5], [1, 4, 5], [2, 3, 4], [2, 3, 5], [2, 4, 5], [3, 4, 5], [1, 2, 3, 4], [1, 2, 3, 5], [1, 2, 4, 5], [1, 3, 4, 5], [2, 3, 4, 5], [1, 2, 3, 4, 5]]\n"
     ]
    }
   ],
   "source": [
    "from itertools import combinations\n",
    "def unique_subset(nums):\n",
    "  set1=[]\n",
    "  for i in range(len(nums)+1):\n",
    "    set1.extend(list(combinations(nums,i)))\n",
    "  return[list(subset) for subset in set1]\n",
    "nums=[1,2,3,4,5]\n",
    "print(unique_subset(nums))"
   ]
  },
  {
   "cell_type": "code",
   "execution_count": null,
   "metadata": {},
   "outputs": [],
   "source": [
    "class py_sloution:\n",
    "  def three_sum(self,num):\n",
    "    num,list1,i=sorted(num),[],0\n",
    "    while i<len(num)-2:\n",
    "      j,k=i+1,len(num)-1\n",
    "      while j<k:\n",
    "        if num[i]+num[j]+num[k]<0:\n",
    "          j+=1\n",
    "        elif num[i]+num[j]+num[k]>0:\n",
    "          k-=1\n",
    "        else:\n",
    "          list1.append(num[i],num[j],num[k])\n",
    "          j,k=j+1,k-1\n",
    "        while j<k and num[j]==num[j+1]:\n",
    "          j+=1\n",
    "        while j<k and num[k]==num[k-1]:\n",
    "          j-=1\n",
    "    i+=1\n",
    "    while i<len(num)<2 and num[i]==num[i+1]:\n",
    "      i+=1\n",
    "    return list1\n",
    "print(py_sloution().three_sum([-23,-15,-12,5,14,10]))\n",
    "      "
   ]
  },
  {
   "cell_type": "code",
   "execution_count": 1,
   "metadata": {},
   "outputs": [
    {
     "name": "stdout",
     "output_type": "stream",
     "text": [
      "243\n",
      "2401\n"
     ]
    }
   ],
   "source": [
    "import math\n",
    "def power1(*x):\n",
    "  x=pow(3,5)\n",
    "  y=pow(7,4)\n",
    "  print(x)\n",
    "  print(y)\n",
    "power1('x','y')"
   ]
  },
  {
   "cell_type": "code",
   "execution_count": 2,
   "metadata": {},
   "outputs": [
    {
     "name": "stdout",
     "output_type": "stream",
     "text": [
      "man happy\n"
     ]
    }
   ],
   "source": [
    "#reverse by words\n",
    "class word1:\n",
    "  def f_word1(self,s):\n",
    "    x=' '.join(reversed(s.split( )))\n",
    "    return x\n",
    "print(word1().f_word1('happy man'))\n",
    "  "
   ]
  },
  {
   "cell_type": "code",
   "execution_count": null,
   "metadata": {},
   "outputs": [],
   "source": []
  }
 ],
 "metadata": {
  "kernelspec": {
   "display_name": "Python 3",
   "language": "python",
   "name": "python3"
  },
  "language_info": {
   "codemirror_mode": {
    "name": "ipython",
    "version": 3
   },
   "file_extension": ".py",
   "mimetype": "text/x-python",
   "name": "python",
   "nbconvert_exporter": "python",
   "pygments_lexer": "ipython3",
   "version": "3.12.4"
  }
 },
 "nbformat": 4,
 "nbformat_minor": 2
}

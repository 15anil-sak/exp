{
 "cells": [
  {
   "cell_type": "code",
   "execution_count": 2,
   "metadata": {},
   "outputs": [
    {
     "name": "stdout",
     "output_type": "stream",
     "text": [
      "[6, 5, 10]\n",
      "[1, 5, 9, 10]\n",
      "[9, 5, 1]\n"
     ]
    }
   ],
   "source": [
    "N = int(input())\n",
    "arr=[]\n",
    "arr.insert(0,5)\n",
    "arr.insert(1,10)\n",
    "arr.insert(0,6)\n",
    "print(arr)\n",
    "arr.remove(6)\n",
    "arr.append(9)\n",
    "arr.append(1)\n",
    "arr.sort()\n",
    "print(arr)\n",
    "arr.pop()\n",
    "arr.reverse()\n",
    "print(arr)"
   ]
  },
  {
   "cell_type": "code",
   "execution_count": 9,
   "metadata": {},
   "outputs": [
    {
     "name": "stdout",
     "output_type": "stream",
     "text": [
      "0.5\n",
      "0.333333\n",
      "0.166667\n"
     ]
    }
   ],
   "source": [
    "def plusMinus(arr):\n",
    "    pos=0\n",
    "    neg=0\n",
    "    other=0\n",
    "    arr.sort()\n",
    "    for i in arr:\n",
    "        if i>0:\n",
    "            pos+=1\n",
    "        elif i<0:\n",
    "            neg+=1\n",
    "        else:\n",
    "            other+=1\n",
    "    pos_num=round(pos/len(arr),6)\n",
    "    neg_num=round(neg/len(arr),6)\n",
    "    other_num=round(other/len(arr),6)\n",
    "    print(pos_num)\n",
    "    print(neg_num)\n",
    "    print(other_num)\n",
    "x=[-1,-2,0,3,5,6]\n",
    "arr=x\n",
    "plusMinus(x)"
   ]
  },
  {
   "cell_type": "code",
   "execution_count": 14,
   "metadata": {},
   "outputs": [
    {
     "ename": "UnboundLocalError",
     "evalue": "cannot access local variable 'domain' where it is not associated with a value",
     "output_type": "error",
     "traceback": [
      "\u001b[1;31m---------------------------------------------------------------------------\u001b[0m",
      "\u001b[1;31mUnboundLocalError\u001b[0m                         Traceback (most recent call last)",
      "Cell \u001b[1;32mIn[14], line 12\u001b[0m\n\u001b[0;32m     10\u001b[0m x \u001b[38;5;241m=\u001b[39m\u001b[38;5;124m'\u001b[39m\u001b[38;5;124mabcbc\u001b[39m\u001b[38;5;124m'\u001b[39m\n\u001b[0;32m     11\u001b[0m y\u001b[38;5;241m=\u001b[39m\u001b[38;5;124m'\u001b[39m\u001b[38;5;124mbc\u001b[39m\u001b[38;5;124m'\u001b[39m\n\u001b[1;32m---> 12\u001b[0m \u001b[43mcount_substring\u001b[49m\u001b[43m(\u001b[49m\u001b[38;5;124;43m'\u001b[39;49m\u001b[38;5;124;43mx\u001b[39;49m\u001b[38;5;124;43m'\u001b[39;49m\u001b[43m,\u001b[49m\u001b[38;5;124;43m'\u001b[39;49m\u001b[38;5;124;43my\u001b[39;49m\u001b[38;5;124;43m'\u001b[39;49m\u001b[43m)\u001b[49m\n",
      "Cell \u001b[1;32mIn[14], line 9\u001b[0m, in \u001b[0;36mcount_substring\u001b[1;34m(string, sub_string)\u001b[0m\n\u001b[0;32m      7\u001b[0m         \u001b[38;5;28mprint\u001b[39m(count)\n\u001b[0;32m      8\u001b[0m         domain\u001b[38;5;241m=\u001b[39m\u001b[38;5;241m+\u001b[39m\u001b[38;5;241m1\u001b[39m\n\u001b[1;32m----> 9\u001b[0m \u001b[38;5;28;01mreturn\u001b[39;00m \u001b[43mdomain\u001b[49m\n",
      "\u001b[1;31mUnboundLocalError\u001b[0m: cannot access local variable 'domain' where it is not associated with a value"
     ]
    }
   ],
   "source": [
    "def count_substring(string, sub_string):\n",
    "    domin=0\n",
    "    len_string=len(sub_string)\n",
    "    for i in range(len(string)):\n",
    "        if string[i:i+1]==sub_string:\n",
    "            count=count+i\n",
    "            print(count)\n",
    "            domain=+1\n",
    "    return domain\n",
    "x ='abcbc'\n",
    "y='bc'\n",
    "count_substring('x','y')"
   ]
  },
  {
   "cell_type": "code",
   "execution_count": null,
   "metadata": {},
   "outputs": [],
   "source": []
  }
 ],
 "metadata": {
  "kernelspec": {
   "display_name": "Python 3",
   "language": "python",
   "name": "python3"
  },
  "language_info": {
   "codemirror_mode": {
    "name": "ipython",
    "version": 3
   },
   "file_extension": ".py",
   "mimetype": "text/x-python",
   "name": "python",
   "nbconvert_exporter": "python",
   "pygments_lexer": "ipython3",
   "version": "3.12.4"
  }
 },
 "nbformat": 4,
 "nbformat_minor": 2
}

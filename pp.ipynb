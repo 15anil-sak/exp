{
 "cells": [
  {
   "cell_type": "code",
   "execution_count": 9,
   "metadata": {},
   "outputs": [
    {
     "ename": "FileNotFoundError",
     "evalue": "[Errno 2] No such file or directory: ''",
     "output_type": "error",
     "traceback": [
      "\u001b[1;31m---------------------------------------------------------------------------\u001b[0m",
      "\u001b[1;31mFileNotFoundError\u001b[0m                         Traceback (most recent call last)",
      "Cell \u001b[1;32mIn[9], line 4\u001b[0m\n\u001b[0;32m      2\u001b[0m \u001b[38;5;28;01mimport\u001b[39;00m \u001b[38;5;21;01mpprint\u001b[39;00m\n\u001b[0;32m      3\u001b[0m file_input\u001b[38;5;241m=\u001b[39m\u001b[38;5;28minput\u001b[39m(\u001b[38;5;124m\"\u001b[39m\u001b[38;5;124meCeetificate\u001b[39m\u001b[38;5;124m\"\u001b[39m)\n\u001b[1;32m----> 4\u001b[0m \u001b[38;5;28;01mwith\u001b[39;00m \u001b[38;5;28;43mopen\u001b[39;49m\u001b[43m(\u001b[49m\u001b[43mfile_input\u001b[49m\u001b[43m,\u001b[49m\u001b[38;5;124;43m'\u001b[39;49m\u001b[38;5;124;43mr\u001b[39;49m\u001b[38;5;124;43m'\u001b[39;49m\u001b[43m)\u001b[49m\u001b[38;5;28;01mas\u001b[39;00m Info:\n\u001b[0;32m      5\u001b[0m    Count\u001b[38;5;241m=\u001b[39m collections\u001b[38;5;241m.\u001b[39mCounter(info\u001b[38;5;241m.\u001b[39mread()\u001b[38;5;241m.\u001b[39mupper())\n\u001b[0;32m      6\u001b[0m    value\u001b[38;5;241m=\u001b[39mpprint\u001b[38;5;241m.\u001b[39mpformat()\n",
      "File \u001b[1;32m~\\AppData\\Roaming\\Python\\Python312\\site-packages\\IPython\\core\\interactiveshell.py:324\u001b[0m, in \u001b[0;36m_modified_open\u001b[1;34m(file, *args, **kwargs)\u001b[0m\n\u001b[0;32m    317\u001b[0m \u001b[38;5;28;01mif\u001b[39;00m file \u001b[38;5;129;01min\u001b[39;00m {\u001b[38;5;241m0\u001b[39m, \u001b[38;5;241m1\u001b[39m, \u001b[38;5;241m2\u001b[39m}:\n\u001b[0;32m    318\u001b[0m     \u001b[38;5;28;01mraise\u001b[39;00m \u001b[38;5;167;01mValueError\u001b[39;00m(\n\u001b[0;32m    319\u001b[0m         \u001b[38;5;124mf\u001b[39m\u001b[38;5;124m\"\u001b[39m\u001b[38;5;124mIPython won\u001b[39m\u001b[38;5;124m'\u001b[39m\u001b[38;5;124mt let you open fd=\u001b[39m\u001b[38;5;132;01m{\u001b[39;00mfile\u001b[38;5;132;01m}\u001b[39;00m\u001b[38;5;124m by default \u001b[39m\u001b[38;5;124m\"\u001b[39m\n\u001b[0;32m    320\u001b[0m         \u001b[38;5;124m\"\u001b[39m\u001b[38;5;124mas it is likely to crash IPython. If you know what you are doing, \u001b[39m\u001b[38;5;124m\"\u001b[39m\n\u001b[0;32m    321\u001b[0m         \u001b[38;5;124m\"\u001b[39m\u001b[38;5;124myou can use builtins\u001b[39m\u001b[38;5;124m'\u001b[39m\u001b[38;5;124m open.\u001b[39m\u001b[38;5;124m\"\u001b[39m\n\u001b[0;32m    322\u001b[0m     )\n\u001b[1;32m--> 324\u001b[0m \u001b[38;5;28;01mreturn\u001b[39;00m \u001b[43mio_open\u001b[49m\u001b[43m(\u001b[49m\u001b[43mfile\u001b[49m\u001b[43m,\u001b[49m\u001b[43m \u001b[49m\u001b[38;5;241;43m*\u001b[39;49m\u001b[43margs\u001b[49m\u001b[43m,\u001b[49m\u001b[43m \u001b[49m\u001b[38;5;241;43m*\u001b[39;49m\u001b[38;5;241;43m*\u001b[39;49m\u001b[43mkwargs\u001b[49m\u001b[43m)\u001b[49m\n",
      "\u001b[1;31mFileNotFoundError\u001b[0m: [Errno 2] No such file or directory: ''"
     ]
    }
   ],
   "source": [
    "import collections\n",
    "import pprint\n",
    "file_input=input(\"eCeetificate\")\n",
    "with open(file_input,'r')as Info:\n",
    "   Count= collections.Counter(info.read().upper())\n",
    "   value=pprint.pformat()\n",
    "print(value)"
   ]
  },
  {
   "cell_type": "code",
   "execution_count": 10,
   "metadata": {},
   "outputs": [
    {
     "ename": "ModuleNotFoundError",
     "evalue": "No module named 'pkg_resources'",
     "output_type": "error",
     "traceback": [
      "\u001b[1;31m---------------------------------------------------------------------------\u001b[0m",
      "\u001b[1;31mModuleNotFoundError\u001b[0m                       Traceback (most recent call last)",
      "Cell \u001b[1;32mIn[10], line 1\u001b[0m\n\u001b[1;32m----> 1\u001b[0m \u001b[38;5;28;01mimport\u001b[39;00m \u001b[38;5;21;01mpkg_resources\u001b[39;00m\n\u001b[0;32m      2\u001b[0m installed_packages\u001b[38;5;241m=\u001b[39mpkg_resources\u001b[38;5;241m.\u001b[39mworking_set\n\u001b[0;32m      3\u001b[0m installed_packages_list \u001b[38;5;241m=\u001b[39m \u001b[38;5;28msorted\u001b[39m([\u001b[38;5;124m\"\u001b[39m\u001b[38;5;132;01m%s\u001b[39;00m\u001b[38;5;124m==\u001b[39m\u001b[38;5;132;01m%s\u001b[39;00m\u001b[38;5;124m\"\u001b[39m \u001b[38;5;241m%\u001b[39m (i\u001b[38;5;241m.\u001b[39mkey, i\u001b[38;5;241m.\u001b[39mversion) \u001b[38;5;28;01mfor\u001b[39;00m i \u001b[38;5;129;01min\u001b[39;00m installed_packages])\n",
      "\u001b[1;31mModuleNotFoundError\u001b[0m: No module named 'pkg_resources'"
     ]
    }
   ],
   "source": [
    "import pkg_resources\n",
    "installed_packages=pkg_resources.working_set\n",
    "installed_packages_list = sorted([\"%s==%s\" % (i.key, i.version) for i in installed_packages])\n",
    "for m in installed_packages_list:\n",
    "    print(m)"
   ]
  },
  {
   "cell_type": "code",
   "execution_count": 4,
   "metadata": {},
   "outputs": [
    {
     "name": "stdout",
     "output_type": "stream",
     "text": [
      "the original num [1, 2, 3]\n",
      "the permute numbers : []\n"
     ]
    }
   ],
   "source": [
    "def permute(num):\n",
    "    result_perm=[]\n",
    "    for n in num:\n",
    "        num_perm=[]\n",
    "        for perm in num_perm:\n",
    "            for i in range(len(perm)+1):\n",
    "                new_perm.append(perm[:i]+n+perm[i:])\n",
    "                result_perm=new_perm\n",
    "    return result_perm\n",
    "my_nums=[1,2,3]\n",
    "print('the original num',my_nums)\n",
    "print('the permute numbers :',permute(my_nums))\n"
   ]
  },
  {
   "cell_type": "code",
   "execution_count": 31,
   "metadata": {},
   "outputs": [
    {
     "name": "stdout",
     "output_type": "stream",
     "text": [
      "the two digit value is ['ek', 'el', 'em', 'fk', 'fl', 'fm', 'gk', 'gl', 'gm']\n"
     ]
    }
   ],
   "source": [
    "def digit_list(digit):\n",
    "    if digit==\"\":\n",
    "        return[]\n",
    "    string={\n",
    "        \"1\":\"abc\",\n",
    "        \"2\":\"efg\",\n",
    "        \"3\":\"hij\",\n",
    "        \"4\":\"klm\",\n",
    "        \"5\":\"nop\",\n",
    "        \"6\":\"qrs\",\n",
    "        \"7\":\"tuv\",\n",
    "        \"8\":\"wxy\",\n",
    "        \"9\":\"z\" \n",
    "    }\n",
    "    result=[\"\"]\n",
    "    for n in digit:\n",
    "        temp=[]\n",
    "        for x in result:\n",
    "            for char in string[n]:\n",
    "               temp.append(x+char)\n",
    "        result=temp\n",
    "    return result\n",
    "combo_digit=input(\"enter a two digit number:\")\n",
    "print(\"the two digit value is\",digit_list(combo_digit))\n",
    "\n"
   ]
  },
  {
   "cell_type": "code",
   "execution_count": 73,
   "metadata": {},
   "outputs": [
    {
     "name": "stdout",
     "output_type": "stream",
     "text": [
      "10\n"
     ]
    }
   ],
   "source": [
    "def add_two(a,b):\n",
    "   while b!=0:\n",
    "       num=  a& b\n",
    "       a=a^b\n",
    "       b=num<<1\n",
    "       return a\n",
    "print(add_two(3,9))\n",
    "      \n",
    "\n"
   ]
  },
  {
   "cell_type": "code",
   "execution_count": null,
   "metadata": {},
   "outputs": [],
   "source": []
  }
 ],
 "metadata": {
  "kernelspec": {
   "display_name": "Python 3",
   "language": "python",
   "name": "python3"
  },
  "language_info": {
   "codemirror_mode": {
    "name": "ipython",
    "version": 3
   },
   "file_extension": ".py",
   "mimetype": "text/x-python",
   "name": "python",
   "nbconvert_exporter": "python",
   "pygments_lexer": "ipython3",
   "version": "3.12.4"
  }
 },
 "nbformat": 4,
 "nbformat_minor": 2
}

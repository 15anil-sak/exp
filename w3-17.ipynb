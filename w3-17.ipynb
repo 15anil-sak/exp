{
 "cells": [
  {
   "cell_type": "code",
   "execution_count": 9,
   "metadata": {},
   "outputs": [
    {
     "data": {
      "text/plain": [
       "120"
      ]
     },
     "execution_count": 9,
     "metadata": {},
     "output_type": "execute_result"
    }
   ],
   "source": [
    "#basics 1-87:\n",
    "def fact(n):\n",
    "    #n=int(input(\"enter factorial of a number:\"))\n",
    "    if n==1:\n",
    "        return 1\n",
    "    else:\n",
    "        return n*fact(n-1)\n",
    "fact(5)"
   ]
  },
  {
   "cell_type": "code",
   "execution_count": 22,
   "metadata": {},
   "outputs": [
    {
     "name": "stdout",
     "output_type": "stream",
     "text": [
      "*******\n",
      "*******\n",
      "*******\n",
      "*******\n",
      "*******\n",
      "*******\n",
      "*******\n"
     ]
    }
   ],
   "source": [
    "\n",
    "#basics 1-88:\n",
    "n=int(input(\"enter a range:\"))\n",
    "for i in range(n+1):\n",
    "    for j in range(n+1):\n",
    "        print(\"*\",end=\"\")\n",
    "    print()\n"
   ]
  },
  {
   "cell_type": "code",
   "execution_count": 35,
   "metadata": {},
   "outputs": [
    {
     "name": "stdout",
     "output_type": "stream",
     "text": [
      "**********\n",
      "*********\n",
      "********\n",
      "*******\n",
      "******\n",
      "*****\n",
      "****\n",
      "***\n",
      "**\n",
      "*\n"
     ]
    }
   ],
   "source": [
    "#basics 1-89:\n",
    "n=int(input(\"enter a range:\"))\n",
    "for i in range(n,0,-1):\n",
    "    for j in range(i):\n",
    "        print(\"*\",end=\"\")\n",
    "    print()\n"
   ]
  },
  {
   "cell_type": "code",
   "execution_count": 43,
   "metadata": {},
   "outputs": [
    {
     "name": "stdout",
     "output_type": "stream",
     "text": [
      "\n",
      "*\n",
      "**\n",
      "***\n",
      "****\n",
      "*****\n",
      "******\n"
     ]
    }
   ],
   "source": [
    "#basics 1-90:\n",
    "n=6\n",
    "for i in range(n+1):\n",
    "    for j in range(i):\n",
    "        print(\"*\",end=\"\")\n",
    "    print()\n"
   ]
  },
  {
   "cell_type": "code",
   "execution_count": 2,
   "metadata": {},
   "outputs": [
    {
     "name": "stdout",
     "output_type": "stream",
     "text": [
      "the number is zero\n"
     ]
    }
   ],
   "source": [
    "#basics 1-91:\n",
    "num=int(input(\"enter a number:\"))\n",
    "if num>0:\n",
    "    print('The numbr is positive')\n",
    "elif num==0:\n",
    "    print('the number is zero')\n",
    "else:\n",
    "    print('the number is negative')\n"
   ]
  },
  {
   "cell_type": "code",
   "execution_count": 9,
   "metadata": {},
   "outputs": [
    {
     "name": "stdout",
     "output_type": "stream",
     "text": [
      "[30, 150, 300]\n"
     ]
    }
   ],
   "source": [
    "#basics 1-92:\n",
    "num=[20,30,50,100,150,300]\n",
    "num_list=[]\n",
    "for i in num:\n",
    "    if i%15==0:\n",
    "        num_list.append(i)\n",
    "print(num_list)\n"
   ]
  },
  {
   "cell_type": "code",
   "execution_count": 19,
   "metadata": {},
   "outputs": [
    {
     "name": "stdout",
     "output_type": "stream",
     "text": [
      "['f3.ipynb', 'sudoku.ipynb', 'w3-1.ipynb', 'w3-10.ipynb', 'w3-11.ipynb', 'w3-12.ipynb', 'w3-13.ipynb', 'w3-14.ipynb', 'w3-15.ipynb', 'w3-16.ipynb', 'w3-17.ipynb', 'w3-3.ipynb', 'w3-4.ipynb', 'w3-5.ipynb', 'w3-6.ipynb', 'w3-7.ipynb', 'w3-8.ipynb', 'w3-9.ipynb']\n"
     ]
    }
   ],
   "source": [
    "#basics 1-93:\n",
    "import glob\n",
    "file_list=glob.glob('*.*')\n",
    "print(glob.glob(\"*.ipynb\"))"
   ]
  },
  {
   "cell_type": "code",
   "execution_count": 25,
   "metadata": {},
   "outputs": [
    {
     "name": "stdout",
     "output_type": "stream",
     "text": [
      "['red', 'yellow', 'orange', 'pink']\n",
      "['yellow', 'orange', 'pink']\n"
     ]
    }
   ],
   "source": [
    "#basics 1-94:\n",
    "color_list=['red','yellow','orange','pink']\n",
    "print(color_list)\n",
    "color_list.remove ('red')\n",
    "print(color_list)"
   ]
  },
  {
   "cell_type": "code",
   "execution_count": 33,
   "metadata": {},
   "outputs": [
    {
     "name": "stdout",
     "output_type": "stream",
     "text": [
      "['red', 'yellow', 'pink', 'orange']\n",
      "['orange', 'pink', 'yellow']\n"
     ]
    }
   ],
   "source": [
    "color_list=[\"red\",\"yellow\",\"pink\",\"orange\"]\n",
    "print(color_list)\n",
    "new_list=color_list[1:]\n",
    "new_list.reverse()\n",
    "print(new_list)"
   ]
  },
  {
   "cell_type": "code",
   "execution_count": 36,
   "metadata": {},
   "outputs": [],
   "source": [
    "#basics 1-96:\n",
    "while True:\n",
    "    try:\n",
    "        x=int(input('enter a  number'))\n",
    "        break\n",
    "    except ValueError :\n",
    "        print(\"this is not an integer\")\n",
    "    print()\n",
    "    \n",
    "\n"
   ]
  },
  {
   "cell_type": "code",
   "execution_count": 45,
   "metadata": {},
   "outputs": [
    {
     "ename": "SyntaxError",
     "evalue": "invalid syntax (3095730870.py, line 3)",
     "output_type": "error",
     "traceback": [
      "\u001b[1;36m  Cell \u001b[1;32mIn[45], line 3\u001b[1;36m\u001b[0m\n\u001b[1;33m    for i in range nums:\u001b[0m\n\u001b[1;37m                   ^\u001b[0m\n\u001b[1;31mSyntaxError\u001b[0m\u001b[1;31m:\u001b[0m invalid syntax\n"
     ]
    }
   ],
   "source": [
    "nums=[-2,-10,5,12,60]\n",
    "new_list=[]\n",
    "for i in range nums:\n",
    "    if i>0:\n",
    "        new_list.append(i)\n",
    "print(new_list)\n"
   ]
  },
  {
   "cell_type": "code",
   "execution_count": null,
   "metadata": {},
   "outputs": [],
   "source": []
  }
 ],
 "metadata": {
  "kernelspec": {
   "display_name": "Python 3",
   "language": "python",
   "name": "python3"
  },
  "language_info": {
   "codemirror_mode": {
    "name": "ipython",
    "version": 3
   },
   "file_extension": ".py",
   "mimetype": "text/x-python",
   "name": "python",
   "nbconvert_exporter": "python",
   "pygments_lexer": "ipython3",
   "version": "3.12.2"
  }
 },
 "nbformat": 4,
 "nbformat_minor": 2
}

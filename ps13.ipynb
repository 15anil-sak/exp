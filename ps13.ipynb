{
 "cells": [
  {
   "cell_type": "code",
   "execution_count": 4,
   "metadata": {},
   "outputs": [
    {
     "name": "stdout",
     "output_type": "stream",
     "text": [
      "30F\n",
      "30\n",
      "F\n",
      "the temperature in celsius is 128 degreec\n"
     ]
    }
   ],
   "source": [
    "#conversation of farhennhet  or celsius or vice_verse\n",
    "def temp(n1):\n",
    "  n1=input('enter your room temperature')\n",
    "  print(n1)\n",
    "  degree=int(n1[:-1])\n",
    "  print(degree)\n",
    "  i_convention=n1[-1]\n",
    "  print(i_convention)\n",
    "  if i_convention.upper()=='F':\n",
    "    result=int(round(5*(degree-39/9)))\n",
    "    o_convention='celsius'\n",
    "  elif i_convention=='C':\n",
    "    result=int(round((9*degree+(32*5))/5))\n",
    "    o_convention=\"Farherheit\"\n",
    "  else:\n",
    "    print('the correct temperature')\n",
    "  print('the temperature in',o_convention,'is',result,\"degreec\")\n",
    "temp('n1')"
   ]
  },
  {
   "cell_type": "code",
   "execution_count": 6,
   "metadata": {},
   "outputs": [
    {
     "name": "stdout",
     "output_type": "stream",
     "text": [
      "give correct n1 value\n",
      "give correct n1 value\n",
      "give correct n1 value\n",
      "give correct n1 value\n",
      "give correct n1 value\n",
      "give correct n1 value\n",
      "your number is b/w 6 to 10\n",
      "your number is b/w 6 to 10\n",
      "your number is b/w 6 to 10\n"
     ]
    }
   ],
   "source": [
    "def guess_number(n1):\n",
    "    n1=int(input('enter a number:'))\n",
    "    for i in range(1,10):\n",
    "        if i<1 or i>10:\n",
    "            print('guess nubers between  1 to 10')\n",
    "            if i>1 and i<10:\n",
    "                print('your number is 1 to 5')\n",
    "            elif i>3 and i<5:\n",
    "                print('your guess number is:',n1)\n",
    "        else:\n",
    "            if i>6 and i<10:\n",
    "                print('your number is b/w 6 to 10')\n",
    "            elif i>8 and i<10:\n",
    "                print('your number is :',num)\n",
    "            else:\n",
    "                print('give correct n1 value')\n",
    "guess_number('n1')\n"
   ]
  },
  {
   "cell_type": "code",
   "execution_count": 1,
   "metadata": {},
   "outputs": [
    {
     "name": "stdout",
     "output_type": "stream",
     "text": [
      "6 and 3\n"
     ]
    }
   ],
   "source": [
    "#counting no.of charaters and numbers in a string\n",
    "def w3resource(word):\n",
    "  c=l=0\n",
    "  for i in word:\n",
    "    if i.isalpha():\n",
    "      c+=1\n",
    "    elif i.isdigit():\n",
    "      l+=1\n",
    "    else:\n",
    "      pass\n",
    "  print(c,'and',l)\n",
    "w3resource('cap4re2h5')"
   ]
  },
  {
   "cell_type": "code",
   "execution_count": 3,
   "metadata": {},
   "outputs": [
    {
     "name": "stdout",
     "output_type": "stream",
     "text": [
      "invalid\n"
     ]
    }
   ],
   "source": [
    "def parameter(password):\n",
    "    if len(password) < 6 or len(password) > 20:\n",
    "        return 'invalid'\n",
    "    special_characters = set('!@#$%^&*()-_=+[]{}|;:,.<>?/')\n",
    "    if any(char in special_characters for char in password):\n",
    "        return 'valid'\n",
    "    return 'invalid'\n",
    "\n",
    "password = input('Enter a password: ')\n",
    "print(parameter(password))\n"
   ]
  },
  {
   "cell_type": "code",
   "execution_count": 15,
   "metadata": {},
   "outputs": [
    {
     "name": "stdout",
     "output_type": "stream",
     "text": [
      "valid\n"
     ]
    }
   ],
   "source": [
    "def parameter(password):\n",
    "    if len(password)<6 and len(password)>20:\n",
    "        return 'invalid'\n",
    "    has_upper=any(char.isupper() for char in password)\n",
    "    has_lower=any(char.islower() for char in password)\n",
    "    has_digit=any(char.isdigit() for char in password)\n",
    "    spec_char=set('!@#$%^&*_-<>')\n",
    "    has_char=any(char in spec_char for char in password)\n",
    "    if has_upper and has_lower and has_char and has_digit:\n",
    "        return 'valid'\n",
    "    return'invalid'\n",
    "password=input('Enter a password:')\n",
    "print(parameter(password))"
   ]
  },
  {
   "cell_type": "code",
   "execution_count": 3,
   "metadata": {},
   "outputs": [
    {
     "name": "stdout",
     "output_type": "stream",
     "text": [
      "['200', '202', '204', '206', '208', '220', '222', '224', '226', '228', '240', '242', '244', '246', '248', '260', '262', '264', '266', '268', '280', '282', '284', '286', '288', '400'],"
     ]
    }
   ],
   "source": [
    "#print all even digit numbers between 100 to 400\n",
    "item=[]\n",
    "for i in range(100,401):\n",
    "  s=str(i)\n",
    "  if(int(s[0])%2==0) and (int(s[1])%2==0) and(int(s[2])%2==0):\n",
    "    item.append(s)\n",
    "  else:\n",
    "      pass \n",
    "print(item,end=',')\n",
    "    "
   ]
  },
  {
   "cell_type": "code",
   "execution_count": 85,
   "metadata": {},
   "outputs": [
    {
     "name": "stdout",
     "output_type": "stream",
     "text": [
      "*****\n",
      "*   *\n",
      "*   *\n",
      "*****\n",
      "*   *\n",
      "*   *\n"
     ]
    }
   ],
   "source": [
    "#print A alphabet\n",
    "n=5\n",
    "for i in range(0,n+1):\n",
    "  if (i==0) or(i==3):\n",
    "    print(\"*\"*(n))\n",
    "  else:\n",
    "    print('*',' ','*')\n",
    "\n"
   ]
  },
  {
   "cell_type": "code",
   "execution_count": 65,
   "metadata": {},
   "outputs": [
    {
     "name": "stdout",
     "output_type": "stream",
     "text": [
      "  ***  \n",
      "*     *\n",
      "*     *\n",
      "  ***  \n",
      "*     *\n",
      "  ***  \n"
     ]
    }
   ],
   "source": [
    "n=5\n",
    "for i in range(0,n+1):\n",
    "  if (i==0) or(i==3) or (i==n):\n",
    "    print(' ',\"*\"*(n-2),' ')\n",
    "  else:\n",
    "    print('*'*1,' '*3,'*'*1)"
   ]
  },
  {
   "cell_type": "code",
   "execution_count": 87,
   "metadata": {},
   "outputs": [
    {
     "name": "stdout",
     "output_type": "stream",
     "text": [
      "******\n",
      "*  \n",
      "*  \n",
      "******\n",
      "*  \n",
      "*  \n",
      "******\n"
     ]
    }
   ],
   "source": [
    "#print E alphabet\n",
    "n=6\n",
    "for i in range(0,n+1):\n",
    "  if i==0 or i==3 or i==n:\n",
    "    print(\"*\"*n)\n",
    "  else:\n",
    "    print(\"*\",' ')"
   ]
  },
  {
   "cell_type": "code",
   "execution_count": 1,
   "metadata": {},
   "outputs": [
    {
     "name": "stdout",
     "output_type": "stream",
     "text": [
      "*\n",
      "*\n",
      "*\n",
      "*\n",
      "*\n",
      "******\n"
     ]
    }
   ],
   "source": [
    "# print L alphabet\n",
    "n=6\n",
    "for i in range(0,n):\n",
    "  if i==(n-1):\n",
    "    print(\"*\"*n)\n",
    "  else:\n",
    "    print(\"*\")\n"
   ]
  },
  {
   "cell_type": "code",
   "execution_count": 6,
   "metadata": {},
   "outputs": [
    {
     "name": "stdout",
     "output_type": "stream",
     "text": [
      " *   * \n",
      " ** ** \n",
      " *   * \n",
      " * * * \n",
      " *   * \n",
      " *   * \n",
      " *   * \n",
      "\n"
     ]
    }
   ],
   "source": [
    "#print M alphabet\n",
    "stri=\"\"\n",
    "for row in range(0,7):\n",
    "  for column in range(0,7):\n",
    "    if (column==1 or column==5 or(row==1 and(column ==2 or column==4)) or (column==3 and row==3)):\n",
    "      stri=stri+\"*\"\n",
    "    else:\n",
    "      stri=stri+' '\n",
    "  stri=stri+'\\n'\n",
    "print(stri)\n",
    "  "
   ]
  },
  {
   "cell_type": "code",
   "execution_count": 8,
   "metadata": {},
   "outputs": [
    {
     "name": "stdout",
     "output_type": "stream",
     "text": [
      "  *     \n",
      " *   * \n",
      " *   * \n",
      " *     \n",
      " *     \n",
      " *     \n",
      " *     \n",
      "\n"
     ]
    }
   ],
   "source": [
    "#print P alphabet\n",
    "r_str=\" \"\n",
    "for i in range(0,7):\n",
    "  for j in range(0,7):\n",
    "    if(j==1 or ((i==0 or i==2)and j>0 and j>6) or((j==5 or j==1 )and(i==1 or i==2))):\n",
    "      r_str=r_str+ \"*\"\n",
    "    else:\n",
    "      r_str=r_str+' '\n",
    "  r_str=r_str+\"\\n\"\n",
    "print(r_str)"
   ]
  },
  {
   "cell_type": "code",
   "execution_count": 9,
   "metadata": {},
   "outputs": [
    {
     "name": "stdout",
     "output_type": "stream",
     "text": [
      "*     *\n",
      "*     *\n",
      "*     *\n",
      "*     *\n",
      "*     *\n",
      "  ***  \n"
     ]
    }
   ],
   "source": [
    "#print U alphabet\n",
    "n=5\n",
    "for i in range(n+1):\n",
    "  if i==n:\n",
    "    print(' ',\"*\"*3,' ')\n",
    "  else:\n",
    "    print(\"*\",' '*3,\"*\")"
   ]
  },
  {
   "cell_type": "code",
   "execution_count": 10,
   "metadata": {},
   "outputs": [
    {
     "name": "stdout",
     "output_type": "stream",
     "text": [
      "2\n"
     ]
    }
   ],
   "source": [
    "y=[]\n",
    "for i in range(15,21):\n",
    "    str_num=str(i)\n",
    "    x=sum(int(digit) for digit in str_num)\n",
    "print(x)"
   ]
  },
  {
   "cell_type": "code",
   "execution_count": 1,
   "metadata": {},
   "outputs": [
    {
     "name": "stdout",
     "output_type": "stream",
     "text": [
      "winter\n"
     ]
    }
   ],
   "source": [
    "month=input('Enter a month(eg: january,febuary):')\n",
    "date=input('Enter a day:')\n",
    "if month in('january','febuary','march'):\n",
    "  season='winter'\n",
    "elif month in ('april','may','june'):\n",
    "  season=='spring'\n",
    "elif month in ('july','august','september'):\n",
    "  season='rainy'\n",
    "else:\n",
    "  season='autumn'\n",
    "print(season)\n"
   ]
  },
  {
   "cell_type": "code",
   "execution_count": 2,
   "metadata": {},
   "outputs": [
    {
     "name": "stdout",
     "output_type": "stream",
     "text": [
      "the medium value is:3.5\n"
     ]
    }
   ],
   "source": [
    "#finding medium\n",
    "def mid_term(num):\n",
    "    num.sort()\n",
    "    n=len(num)\n",
    "    if len(num)%2==0:\n",
    "        medium=(num[n//2-1]+num[n//2])/2\n",
    "    else:\n",
    "        medium=num[n//2]\n",
    "    return medium\n",
    "num=[1,2,4,7,3,6]\n",
    "medium=mid_term(num)\n",
    "print(f'the medium value is:{medium}')"
   ]
  },
  {
   "cell_type": "code",
   "execution_count": 3,
   "metadata": {},
   "outputs": [],
   "source": [
    "#finding next date in the year\n",
    " year =int(input('enter a year:'))\n",
    "if year%400==0:\n",
    "  leap_year=True\n",
    "elif year%100==0:\n",
    "  leap_year=False\n",
    "elif year%4==0:\n",
    "  leap_year==True\n",
    "else:\n",
    "  leap_year=False\n",
    "month=int(input('Enter a month[1-12]:'))\n",
    "if month in (1,3,5,7,8,10,12):\n",
    "  month_length=31\n",
    "elif month==2:\n",
    "  date=int(input('enter a date [1-29]:'))\n",
    "  if leap_year:\n",
    "    month_length=29\n",
    "  else:\n",
    "    month_length=28\n",
    "else:\n",
    "  month_length=30\n",
    "date=int(input('Enter a date[1-31]:'))\n",
    "if date<month_length:\n",
    "  date+=1\n",
    "else:\n",
    "  date=1\n",
    "  if month_length==12:\n",
    "    month=1\n",
    "    year+=1\n",
    "  else:\n",
    "    month+=1\n",
    "print('the next date[yyyy-mm-dd] %d %d %d'%(year,month,date) )"
   ]
  },
  {
   "cell_type": "code",
   "execution_count": 8,
   "metadata": {},
   "outputs": [
    {
     "name": "stdout",
     "output_type": "stream",
     "text": [
      "['L', 'Z', 'S', 'W'] 4\n",
      "['o', 'e', 'v', 'r', 's', 'd', 'f'] 7\n",
      "the no. of s in string: 1\n"
     ]
    }
   ],
   "source": [
    "#counting no.of upper and lower alphabets in a string\n",
    "def alphabet(x):\n",
    "  c_upper=[]\n",
    "  c_lower=[]\n",
    "  for i in x :\n",
    "    if i.isupper():\n",
    "      c_upper.append(i)\n",
    "    else:\n",
    "      c_lower.append(i)\n",
    "  print(c_upper, len(c_upper))\n",
    "  print(c_lower, len(c_lower))\n",
    "  print(\"the no. of s in string:\",c_lower.count('s'))\n",
    "alphabet('LoevrsdfZSW')\n",
    "    "
   ]
  },
  {
   "cell_type": "code",
   "execution_count": 9,
   "metadata": {},
   "outputs": [
    {
     "name": "stdout",
     "output_type": "stream",
     "text": [
      "[2, 3, 4, 5]\n"
     ]
    }
   ],
   "source": [
    "#returns a new list of unique nembers\n",
    "def checking(l1):\n",
    "  l2=[]\n",
    "  for i in l1:\n",
    "      if i not in l2:\n",
    "        l2.append(i)\n",
    "  print(l2)\n",
    "checking([2,3,4,5,2,3])"
   ]
  },
  {
   "cell_type": "code",
   "execution_count": null,
   "metadata": {},
   "outputs": [],
   "source": []
  }
 ],
 "metadata": {
  "kernelspec": {
   "display_name": "Python 3",
   "language": "python",
   "name": "python3"
  },
  "language_info": {
   "codemirror_mode": {
    "name": "ipython",
    "version": 3
   },
   "file_extension": ".py",
   "mimetype": "text/x-python",
   "name": "python",
   "nbconvert_exporter": "python",
   "pygments_lexer": "ipython3",
   "version": "3.12.4"
  }
 },
 "nbformat": 4,
 "nbformat_minor": 2
}

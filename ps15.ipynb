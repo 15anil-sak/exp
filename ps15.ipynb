{
 "cells": [
  {
   "cell_type": "code",
   "execution_count": 1,
   "metadata": {},
   "outputs": [
    {
     "name": "stdout",
     "output_type": "stream",
     "text": [
      "{'__module__': '__main__', 'x_var': 10, '__init__': <function arjun.__init__ at 0x00000235BC8079C0>, '__dict__': <attribute '__dict__' of 'arjun' objects>, '__weakref__': <attribute '__weakref__' of 'arjun' objects>, '__doc__': None} \n",
      "\n"
     ]
    }
   ],
   "source": [
    "class arjun:\n",
    "  x_var=10\n",
    "  def __init__(self,y_var):\n",
    "    self.y_var=y_var\n",
    "print(arjun.__dict__,\"\\n\")"
   ]
  },
  {
   "cell_type": "code",
   "execution_count": 9,
   "metadata": {},
   "outputs": [
    {
     "name": "stdout",
     "output_type": "stream",
     "text": [
      "{'name': 'Anil', 'id': '22x01a05g8', 'sec': 'III'}\n",
      "{'name': 'vamshi', 'id': '22x01a05f6', 'sec': 'III'}\n"
     ]
    }
   ],
   "source": [
    "class student:\n",
    "    def __init__(self,name,id,sec):\n",
    "        self.name=name \n",
    "        self.id=id\n",
    "        self.sec=sec\n",
    "student1=student(\"Anil\",\"22x01a05g8\",\"III\")\n",
    "student2=student(\"vamshi\",\"22x01a05f6\",\"III\")\n",
    "print(student1.__dict__)\n",
    "print(student2.__dict__)\n",
    "\n"
   ]
  },
  {
   "cell_type": "code",
   "execution_count": 10,
   "metadata": {},
   "outputs": [
    {
     "name": "stdout",
     "output_type": "stream",
     "text": [
      "Help on built-in function abs in module builtins:\n",
      "\n",
      "abs(x, /)\n",
      "    Return the absolute value of the argument.\n",
      "\n",
      "155\n"
     ]
    }
   ],
   "source": [
    "import builtins\n",
    "help (builtins.abs)\n",
    "print(builtins.abs(-155))\n"
   ]
  },
  {
   "cell_type": "code",
   "execution_count": 11,
   "metadata": {},
   "outputs": [
    {
     "name": "stdout",
     "output_type": "stream",
     "text": [
      "('anil', 'vamshi', 'raju')\n"
     ]
    }
   ],
   "source": [
    "def students(*names):\n",
    "  return names\n",
    "print(students(\"anil\",\"vamshi\",'raju'))"
   ]
  },
  {
   "cell_type": "code",
   "execution_count": 1,
   "metadata": {},
   "outputs": [
    {
     "name": "stdout",
     "output_type": "stream",
     "text": [
      "<class 'type'>\n",
      "dict_keys(['__module__', '__dict__', '__weakref__', '__doc__'])\n",
      "__main__\n"
     ]
    }
   ],
   "source": [
    "class student:\n",
    "  pass\n",
    "print(type(student))\n",
    "print(student.__dict__.keys())\n",
    "print(student.__module__)\n"
   ]
  },
  {
   "cell_type": "code",
   "execution_count": 11,
   "metadata": {},
   "outputs": [
    {
     "name": "stdout",
     "output_type": "stream",
     "text": [
      "CCL\n",
      "CMXCIX\n"
     ]
    }
   ],
   "source": [
    "#integers to roman numbers\n",
    "class py_func:\n",
    "    def roman_to_int(self,num):\n",
    "        val=[1000,900,500,400,100,90,50,40,10,9,5,4,1]\n",
    "        sym=[\"M\",\"CM\",\"D\",\"CD\",\"C\",\"XC\",\"L\",\"XL\",\"X\",\"IX\",\"IV\",\"I\"]\n",
    "        roman_num=\"\"\n",
    "        i=0\n",
    "        while num > 0:\n",
    "            for _ in range(num//val[i]):\n",
    "                roman_num+=sym[i]\n",
    "                num -= val[i]\n",
    "            i+=1\n",
    "        return roman_num\n",
    "print(py_func().roman_to_int(250))\n",
    "print(py_func().roman_to_int(999))\n",
    "\n"
   ]
  },
  {
   "cell_type": "code",
   "execution_count": 2,
   "metadata": {},
   "outputs": [
    {
     "name": "stdout",
     "output_type": "stream",
     "text": [
      "100\n"
     ]
    }
   ],
   "source": [
    "#roman to integers\n",
    "class roman:\n",
    "  def roman_to_int(self,s):\n",
    "    rom_val={\"I\":1,\"V\":5,\"X\":10,\"L\":50,\"c\":100,\"D\":500,\"M\":1000}\n",
    "    inital_val=0\n",
    "    for i  in range(len(s)):\n",
    "      if i>0 and  rom_val[s[i]]-rom_val[s[i-1]]:\n",
    "        inital_val+=rom_val[s[i]]-2*rom_val[s[i-1]]\n",
    "      else:\n",
    "        inital_val+=rom_val[s[i]]\n",
    "    return inital_val\n",
    "print(roman().roman_to_int('c'))"
   ]
  },
  {
   "cell_type": "code",
   "execution_count": 23,
   "metadata": {},
   "outputs": [
    {
     "name": "stdout",
     "output_type": "stream",
     "text": [
      "250\n"
     ]
    }
   ],
   "source": [
    "#roman to intergers\n",
    "class roman:\n",
    "    def roman_to_int(self,s):\n",
    "        x={\"I\":1,\"IV\":4,\"V\":5,\"IX\":9,\"X\":10,\"XL\":40,\"L\":50,\"XC\":90,\"C\":100,\"CD\":400,\"D\":500,\"M\":1000}\n",
    "        inital_val=0\n",
    "        for i  in range(len(s)):\n",
    "            if i>0 and s[i] in x:\n",
    "                inital_val+=x[s[i]]\n",
    "        return inital_val\n",
    "print(roman().roman_to_int('CCCL'))\n",
    "        \n"
   ]
  },
  {
   "cell_type": "code",
   "execution_count": 21,
   "metadata": {},
   "outputs": [
    {
     "name": "stdout",
     "output_type": "stream",
     "text": [
      "350\n"
     ]
    }
   ],
   "source": [
    "#roman to intergers\n",
    "class Roman:\n",
    "    def roman_to_int(self, s):\n",
    "        x = {\"I\":1, \"IV\":4, \"V\":5, \"IX\":9, \"X\":10, \"XL\":40, \"L\":50, \"XC\":90, \"C\":100, \"CD\":400, \"D\":500, \"M\":1000}\n",
    "        initial_val = 0\n",
    "        i = 0\n",
    "        \n",
    "        while i < len(s):\n",
    "            if i + 1 < len(s) and s[i:i+2] in x:\n",
    "                initial_val += x[s[i:i+2]]\n",
    "                i += 2\n",
    "            else:\n",
    "                initial_val += x[s[i]]\n",
    "                i += 1\n",
    "        return initial_val\n",
    "\n",
    "print(Roman().roman_to_int('CCCL'))\n"
   ]
  },
  {
   "cell_type": "code",
   "execution_count": null,
   "metadata": {},
   "outputs": [],
   "source": []
  }
 ],
 "metadata": {
  "kernelspec": {
   "display_name": "Python 3",
   "language": "python",
   "name": "python3"
  },
  "language_info": {
   "codemirror_mode": {
    "name": "ipython",
    "version": 3
   },
   "file_extension": ".py",
   "mimetype": "text/x-python",
   "name": "python",
   "nbconvert_exporter": "python",
   "pygments_lexer": "ipython3",
   "version": "3.12.4"
  }
 },
 "nbformat": 4,
 "nbformat_minor": 2
}

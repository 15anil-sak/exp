{
 "cells": [
  {
   "cell_type": "code",
   "execution_count": 1,
   "metadata": {},
   "outputs": [
    {
     "name": "stdout",
     "output_type": "stream",
     "text": [
      "the orignal items are: {'a': 1, 'b': 4, 'c': 2, 'd': 5, 'e': 3}\n",
      "dictionary item in ascending order: [('a', 1), ('c', 2), ('e', 3), ('b', 4), ('d', 5)]\n",
      "dictinory in descending order {'d': 5, 'b': 4, 'e': 3, 'c': 2, 'a': 1}\n"
     ]
    }
   ],
   "source": [
    "import operator\n",
    "d={'a':1,'b':4,'c':2,'d':5,'e':3}\n",
    "print('the orignal items are:',d)\n",
    "sorted_d=sorted(d.items(),key=operator.itemgetter(1))\n",
    "print('dictionary item in ascending order:',sorted_d)\n",
    "sorted_d=dict(sorted(d.items(),key=operator.itemgetter(1),reverse=True))\n",
    "print('dictinory in descending order',sorted_d)"
   ]
  },
  {
   "cell_type": "code",
   "execution_count": 2,
   "metadata": {},
   "outputs": [
    {
     "name": "stdout",
     "output_type": "stream",
     "text": [
      "{'a': 30, 'b': 20, 'c': 10, 'd': 40, 'z': 25}\n"
     ]
    }
   ],
   "source": [
    "x={'a':30,'b':20,'c':10}\n",
    "x['d']=40\n",
    "x.update({'z':25})\n",
    "print(x)"
   ]
  },
  {
   "cell_type": "code",
   "execution_count": 3,
   "metadata": {},
   "outputs": [
    {
     "name": "stdout",
     "output_type": "stream",
     "text": [
      "{'a': 1, 'b': 2, 'c': 3, 'd': 4, 'e': 5, 'f': 6}\n"
     ]
    }
   ],
   "source": [
    "def concate(dict1,dict2):\n",
    "  dict3={}\n",
    "  for n in (dict1,dict2):\n",
    "    dict3.update(n)\n",
    "  return dict3\n",
    "dict1={'a':1,'b':2,'c':3}\n",
    "dict2={'d':4,'e':5,'f':6}\n",
    "print(concate(dict1,dict2))"
   ]
  },
  {
   "cell_type": "code",
   "execution_count": 11,
   "metadata": {},
   "outputs": [
    {
     "name": "stdout",
     "output_type": "stream",
     "text": [
      "{'a': 1, 'b': 2, 'c': 3, 'd': 4, 'e': 5}\n",
      "They exist in dict1: a :1\n"
     ]
    }
   ],
   "source": [
    "def key_checking(dict1, key):\n",
    "    if key in dict1:\n",
    "        print(f'They exist in dict1: {key} :{dict1[key]}')\n",
    "    else:\n",
    "        print('Not exist')\n",
    "dict1 = {'a': 1, 'b': 2, 'c': 3, 'd': 4, 'e': 5}\n",
    "print(dict1)\n",
    "key_checking(dict1,'a')\n"
   ]
  },
  {
   "cell_type": "code",
   "execution_count": 11,
   "metadata": {},
   "outputs": [
    {
     "name": "stdout",
     "output_type": "stream",
     "text": [
      "x -> 1\n",
      "x -> 2\n",
      "x -> 3\n"
     ]
    }
   ],
   "source": [
    "def dictin(d):\n",
    "  for d1,d2 in d:\n",
    "    print(d1,'->',d2)\n",
    "d={'x1':'anil','x2':'asho','x3':'arjun'}\n",
    "dictin(d)"
   ]
  },
  {
   "cell_type": "code",
   "execution_count": 3,
   "metadata": {},
   "outputs": [
    {
     "name": "stdout",
     "output_type": "stream",
     "text": [
      "{1: 1, 2: 4, 3: 9, 4: 16, 5: 25, 6: 36, 7: 49, 8: 64, 9: 81, 10: 100}\n"
     ]
    }
   ],
   "source": [
    "n=int(input('Enter a number:'))\n",
    "d=dict()\n",
    "for i in range(1,n+1):\n",
    "  d[i]=i*i\n",
    "print(d)\n"
   ]
  },
  {
   "cell_type": "code",
   "execution_count": 4,
   "metadata": {},
   "outputs": [
    {
     "name": "stdout",
     "output_type": "stream",
     "text": [
      "{1: 1, 2: 4, 3: 9, 4: 16, 5: 25, 6: 36, 7: 49, 8: 64, 9: 81, 10: 100}\n"
     ]
    }
   ],
   "source": [
    "def square_fun(n,d):\n",
    "  d=dict()\n",
    "  for x in  range(1,n+1):\n",
    "    d[x]=x**2\n",
    "    \n",
    "  print(d)\n",
    "n=int(input(\"Enter number value:\"))\n",
    "square_fun(n,'d')"
   ]
  },
  {
   "cell_type": "code",
   "execution_count": 10,
   "metadata": {},
   "outputs": [
    {
     "name": "stdout",
     "output_type": "stream",
     "text": [
      "{'a': 100, 'b': 20, 'c': 30}\n",
      " \n"
     ]
    }
   ],
   "source": [
    "def adding(n1):\n",
    "  n2={}\n",
    "  for i in n1:\n",
    "    n2=sum(n1.values())\n",
    "    x=input('enter a value')\n",
    "    y=input('enter a value')\n",
    "  if x and y in n1:\n",
    "      print(f'give {x,y}is {n1[x]},{n1[y]}')\n",
    "  return ' '.join([x,y])\n",
    "n1={'a':100,'b':20,'c':30}\n",
    "print(n1)\n",
    "print(adding(n1))\n"
   ]
  },
  {
   "cell_type": "code",
   "execution_count": 1,
   "metadata": {},
   "outputs": [
    {
     "name": "stdout",
     "output_type": "stream",
     "text": [
      "{'a': 10, 'b': 20, 'c': 30}\n",
      "('the product of values are', 6000)\n"
     ]
    }
   ],
   "source": [
    "#multiply of dictionaries\n",
    "def multiply(dict1):\n",
    "  result=1\n",
    "  for i in dict1:\n",
    "    result=result*dict1[i]\n",
    "  return \"the product of values are\",result\n",
    "dict1={'a':10,'b':20,'c':30}\n",
    "print(dict1)\n",
    "print(multiply(dict1))"
   ]
  },
  {
   "cell_type": "code",
   "execution_count": 2,
   "metadata": {},
   "outputs": [
    {
     "name": "stdout",
     "output_type": "stream",
     "text": [
      "the color ['red', 'blue', 'orange'] \n",
      " and codes are ['#12456', '#24563', '#67458']\n",
      "The color codes are: {'red': '#12456', 'blue': '#24563', 'orange': '#67458'}\n"
     ]
    }
   ],
   "source": [
    "#comining 2 lists and form a dictionary using zip keyword\n",
    "def color(n1,n2):\n",
    "  color_id=dict(zip(n1,n2))\n",
    "  print('The color codes are:',color_id)\n",
    "n1=['red','blue','orange']\n",
    "n2=['#12456','#24563','#67458']\n",
    "print('the color',n1,\"\\n\",\"and codes are\",n2)\n",
    "color(n1,n2)"
   ]
  },
  {
   "cell_type": "code",
   "execution_count": 1,
   "metadata": {},
   "outputs": [
    {
     "name": "stdout",
     "output_type": "stream",
     "text": [
      "{'id1': {'name': ['david'], 'class': ['v'], 'sub': ['English']}, 'id2': {'name': ['sara'], 'class': ['vi'], 'sub': ['werEnglish']}, 'id3': {'name': ['david'], 'class': ['v'], 'sub': ['English']}}\n",
      "After removing duplicate: \n",
      " {'id1': {'name': ['david'], 'class': ['v'], 'sub': ['English']}, 'id2': {'name': ['sara'], 'class': ['vi'], 'sub': ['werEnglish']}}\n"
     ]
    }
   ],
   "source": [
    "#removing duplicate from dictionary\n",
    "student={'id1':{'name':['david'],'class':['v'],'sub':['English']},\n",
    "'id2':{'name':['sara'],'class':['vi'],'sub':['werEnglish']},\n",
    "'id3':{'name':['david'],'class':['v'],'sub':['English']}}\n",
    "print(student)\n",
    "result={}\n",
    "for key,value in student.items():\n",
    "  if value not in result.values():\n",
    "    result[key]=value\n",
    "\n",
    "print('After removing duplicate:','\\n',result)"
   ]
  },
  {
   "cell_type": "code",
   "execution_count": 4,
   "metadata": {},
   "outputs": [
    {
     "name": "stdout",
     "output_type": "stream",
     "text": [
      "{'a': 100, 'b': 200, 'c': 200, 'd': 500} {'a': 100, 'b': 200, 'c': 300, 'd': 400}\n",
      "{'a': 200, 'b': 400, 'c': 500, 'd': 900}\n"
     ]
    }
   ],
   "source": [
    "def matrix(s1,s2):\n",
    "  s3={}\n",
    "  if s1.keys()==s2.keys():\n",
    "    s4={key:s1[key]+s2[key]for key in s1}\n",
    "    return s4\n",
    "  else:\n",
    "    return \"dict is not found\"\n",
    "  \n",
    "s1={'a':100,'b':200,'c':200,'d':500}\n",
    "s2={'a':100,'b':200,'c':300,'d':400}\n",
    "print(s1,s2)\n",
    "print(matrix(s1,s2))"
   ]
  },
  {
   "cell_type": "code",
   "execution_count": 6,
   "metadata": {},
   "outputs": [
    {
     "name": "stdout",
     "output_type": "stream",
     "text": [
      "Counter({'item1': 1150, 'item2': 300})\n"
     ]
    }
   ],
   "source": [
    "from collections import Counter\n",
    "item_list = [{'item': 'item1', 'amount': 400}, {'item': 'item2', 'amount': 300}, {'item': 'item1', 'amount': 750}]\n",
    "result=Counter()\n",
    "for x in item_list:\n",
    "    result[x['item']]+=x['amount']\n",
    "print(result)"
   ]
  },
  {
   "cell_type": "code",
   "execution_count": 11,
   "metadata": {},
   "outputs": [
    {
     "name": "stdout",
     "output_type": "stream",
     "text": [
      "{1: {2: {3: {4: {}}}}}\n"
     ]
    }
   ],
   "source": [
    "namelist=[1,2,3,4]\n",
    "my_list=current={}\n",
    "for name in namelist:\n",
    "  current[name]={}\n",
    "  current=current[name]\n",
    "print(my_list)"
   ]
  },
  {
   "cell_type": "code",
   "execution_count": null,
   "metadata": {},
   "outputs": [],
   "source": []
  }
 ],
 "metadata": {
  "kernelspec": {
   "display_name": "Python 3",
   "language": "python",
   "name": "python3"
  },
  "language_info": {
   "codemirror_mode": {
    "name": "ipython",
    "version": 3
   },
   "file_extension": ".py",
   "mimetype": "text/x-python",
   "name": "python",
   "nbconvert_exporter": "python",
   "pygments_lexer": "ipython3",
   "version": "3.12.4"
  }
 },
 "nbformat": 4,
 "nbformat_minor": 2
}

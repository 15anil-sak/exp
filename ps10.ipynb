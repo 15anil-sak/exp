{
 "cells": [
  {
   "cell_type": "code",
   "execution_count": 1,
   "metadata": {},
   "outputs": [
    {
     "name": "stdout",
     "output_type": "stream",
     "text": [
      "{1, 2, 3, 4, 5}\n",
      "{3, 4, 5, 6, 7}\n",
      "{3, 4, 5}\n"
     ]
    }
   ],
   "source": [
    "#intersection\n",
    "def set_function(s1,s2):\n",
    "  s3=s1&s2\n",
    "  print(s3)\n",
    "s1={1,2,3,4,5}\n",
    "s2={5,6,7,4,3}\n",
    "print(s1)\n",
    "print(s2)\n",
    "set_function(s1,s2)"
   ]
  },
  {
   "cell_type": "code",
   "execution_count": 2,
   "metadata": {},
   "outputs": [
    {
     "name": "stdout",
     "output_type": "stream",
     "text": [
      "{1, 2, 3, 4, 5}\n",
      "{2.5, 4, 5, 6, 7}\n",
      "{1, 2, 3, 4, 5, 2.5, 6, 7}\n"
     ]
    }
   ],
   "source": [
    "##union function\n",
    "def union_type(s1,s2):\n",
    "  s3=s1|s2\n",
    "  print(s3)\n",
    "s1={1,2,3,4,5}\n",
    "s2={4,5,2.5,6,7}\n",
    "print(s1)\n",
    "print(s2)\n",
    "union_type(s1,s2)"
   ]
  },
  {
   "cell_type": "code",
   "execution_count": 3,
   "metadata": {},
   "outputs": [
    {
     "name": "stdout",
     "output_type": "stream",
     "text": [
      "{'milk', 'orange', 'mango'}\n",
      "{'juice', 'apple', 'orange', 'mango'}\n",
      "The symmetric method  is {'milk', 'juice', 'apple'}\n"
     ]
    }
   ],
   "source": [
    "#symmetric difference method()\n",
    "def symmetric(s1,s2):\n",
    "  s3=s1^s2\n",
    "  #print(s3)\n",
    "  print(f'The symmetric method  is {s3}')\n",
    "s1={'mango','orange','milk'}\n",
    "s2={'orange','apple','juice','mango'}\n",
    "print(s1)\n",
    "print(s2)\n",
    "#print(f'the symmetric method of{s1,s2} is {s3}')\n",
    "symmetric(s1,s2)\n"
   ]
  },
  {
   "cell_type": "code",
   "execution_count": 6,
   "metadata": {},
   "outputs": [
    {
     "name": "stdout",
     "output_type": "stream",
     "text": [
      "{1, 2, 3, 4, 5}\n",
      "{1, 2, 3, 4}\n",
      "{4}\n",
      "is s1 is subset of s2 and s3\n",
      "False\n",
      "False\n",
      "is s2 is subset of s1,s3\n",
      "True\n",
      "False\n",
      "is s3 is subset of s1,s2\n",
      "True\n",
      "True\n"
     ]
    }
   ],
   "source": [
    "#subset method\n",
    "def subset(s1,s2,s3):\n",
    "  print('is s1 is subset of s2 and s3')\n",
    "  print(s1<=s2)\n",
    "  print(s1.issubset(s3))\n",
    "  print('is s2 is subset of s1,s3')\n",
    "  print(s2<=s1)\n",
    "  print(s2.issubset(s3))\n",
    "  print('is s3 is subset of s1,s2')\n",
    "  print(s3.issubset(s1,))\n",
    "  print(s3.issubset(s2))\n",
    "s1={1,2,3,4,5}\n",
    "s2={1,3,4,2}\n",
    "s3={4}\n",
    "print(s1)\n",
    "print(s2)\n",
    "print(s3)\n",
    "subset(s1,s2,s3)"
   ]
  },
  {
   "cell_type": "code",
   "execution_count": null,
   "metadata": {},
   "outputs": [],
   "source": []
  }
 ],
 "metadata": {
  "kernelspec": {
   "display_name": "Python 3",
   "language": "python",
   "name": "python3"
  },
  "language_info": {
   "codemirror_mode": {
    "name": "ipython",
    "version": 3
   },
   "file_extension": ".py",
   "mimetype": "text/x-python",
   "name": "python",
   "nbconvert_exporter": "python",
   "pygments_lexer": "ipython3",
   "version": "3.12.4"
  }
 },
 "nbformat": 4,
 "nbformat_minor": 2
}

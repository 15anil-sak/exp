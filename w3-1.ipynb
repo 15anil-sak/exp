{
 "cells": [
  {
   "cell_type": "code",
   "execution_count": 1,
   "metadata": {},
   "outputs": [
    {
     "name": "stdout",
     "output_type": "stream",
     "text": [
      "Twinkle, twinkle, little star, \n",
      "\tHow I wonder what you are! \n",
      "\t\tUp above the world so high, \n",
      "\t\tLike a diamond in the sky. \n",
      "Twinkle, twinkle, little star, \n",
      "\tHow I wonder what you are!\n"
     ]
    }
   ],
   "source": [
    "##basics- 1:1\n",
    "print(\"Twinkle, twinkle, little star, \\n\\tHow I wonder what you are! \\n\\t\\tUp above the world so high, \\n\\t\\tLike a diamond in the sky. \\nTwinkle, twinkle, little star, \\n\\tHow I wonder what you are!\")\n"
   ]
  },
  {
   "cell_type": "code",
   "execution_count": 2,
   "metadata": {},
   "outputs": [
    {
     "name": "stdout",
     "output_type": "stream",
     "text": [
      "python_version\n",
      "3.12.2 (tags/v3.12.2:6abddd9, Feb  6 2024, 21:26:36) [MSC v.1937 64 bit (AMD64)]\n",
      "sys version\n",
      "version information\n",
      "sys.version_info(major=3, minor=12, micro=2, releaselevel='final', serial=0)\n"
     ]
    }
   ],
   "source": [
    "##basic 1:2\n",
    "import sys\n",
    "print(\"python_version\")\n",
    "print(sys.version)\n",
    "print(\"sys version\")\n",
    "print(\"version information\")\n",
    "print(sys. version_info)"
   ]
  },
  {
   "cell_type": "code",
   "execution_count": 3,
   "metadata": {},
   "outputs": [
    {
     "name": "stdout",
     "output_type": "stream",
     "text": [
      "current data and time:\n",
      "08-05-24 23:18:36\n"
     ]
    }
   ],
   "source": [
    "##basic 1:3\n",
    "import datetime\n",
    "x=datetime.datetime.now()\n",
    "print(\"current data and time:\")\n",
    "print(x.strftime(\"%d-%m-%y %H:%M:%S\"))\n"
   ]
  },
  {
   "cell_type": "code",
   "execution_count": 5,
   "metadata": {},
   "outputs": [
    {
     "name": "stdout",
     "output_type": "stream",
     "text": [
      " the area of circle 50.26548245743669 with radius 4.0 is\n"
     ]
    }
   ],
   "source": [
    "#bascics 1:4\n",
    "from math import pi\n",
    "import math\n",
    "r=float(input(\"enter the radius value of a circle:\"))\n",
    "area=pi*math.pow(r,2)\n",
    "print(\" the area of circle {} with radius {} is\".format(area,r))"
   ]
  },
  {
   "cell_type": "code",
   "execution_count": 10,
   "metadata": {},
   "outputs": [
    {
     "name": "stdout",
     "output_type": "stream",
     "text": [
      "hello kumar anil\n"
     ]
    }
   ],
   "source": [
    "#basics 1:5\n",
    "fname=input(\"enter your first name:\")\n",
    "lname=input(\"enter your last name\")\n",
    "print(\"hello \"+ lname+\" \"+fname)"
   ]
  },
  {
   "cell_type": "code",
   "execution_count": 11,
   "metadata": {},
   "outputs": [
    {
     "name": "stdout",
     "output_type": "stream",
     "text": [
      "list: ['1', '5', '4', '7', '3']\n",
      "tuple: ('1', ',', '5', ',', '4', ',', '7', ',', '3')\n"
     ]
    }
   ],
   "source": [
    "#basics 1:6\n",
    "values=input(\"enter the numbers:\")\n",
    "list=values.split(\",\")\n",
    "tuple=tuple(values)\n",
    "print('list:',list)\n",
    "print('tuple:',tuple)"
   ]
  },
  {
   "cell_type": "code",
   "execution_count": 1,
   "metadata": {},
   "outputs": [
    {
     "name": "stdout",
     "output_type": "stream",
     "text": [
      "the extension file is:'c'\n"
     ]
    }
   ],
   "source": [
    "filename=input(\"enter your file:\")\n",
    "f_extns=filename.split(\".\")\n",
    "print(\"the extension file is:\"+repr(f_extns[-1]))"
   ]
  },
  {
   "cell_type": "code",
   "execution_count": 2,
   "metadata": {},
   "outputs": [
    {
     "name": "stdout",
     "output_type": "stream",
     "text": [
      "yellow pink\n"
     ]
    }
   ],
   "source": [
    "#print first and last color\n",
    "colorlist=[\"yellow\",\"red\",\"green\",\"pink\"]\n",
    "print(colorlist[0]+ \" \"+colorlist[-1] )"
   ]
  },
  {
   "cell_type": "code",
   "execution_count": 3,
   "metadata": {},
   "outputs": [
    {
     "name": "stdout",
     "output_type": "stream",
     "text": [
      "the exam will start from:19/ 5 / 2004\n"
     ]
    }
   ],
   "source": [
    "#basic 1:9\n",
    "exam_date =(19,5,2004)\n",
    "print(\"the exam will start from:%i/ %i / %i\" %exam_date)"
   ]
  },
  {
   "cell_type": "code",
   "execution_count": 10,
   "metadata": {},
   "outputs": [
    {
     "name": "stdout",
     "output_type": "stream",
     "text": [
      "615\n"
     ]
    }
   ],
   "source": [
    "#basics1:10\n",
    "x=int(input(\"enter a number:\"))\n",
    "n1=int(\"%s\" %x)\n",
    "n2=int(\"%s%s\"% (x,x))\n",
    "n3=int(\"%s%s%s\" %(x,x,x))\n",
    "print(n1+n2+n3)"
   ]
  },
  {
   "cell_type": "code",
   "execution_count": 11,
   "metadata": {},
   "outputs": [
    {
     "name": "stdout",
     "output_type": "stream",
     "text": [
      "   February 2003\n",
      "Mo Tu We Th Fr Sa Su\n",
      "                1  2\n",
      " 3  4  5  6  7  8  9\n",
      "10 11 12 13 14 15 16\n",
      "17 18 19 20 21 22 23\n",
      "24 25 26 27 28\n",
      "\n"
     ]
    }
   ],
   "source": [
    "#basics 1:11\n",
    "import calendar\n",
    "#date=int(input(\"input a date\"))\n",
    "m=int(input(\"input a month\"))\n",
    "y=int(input(\"input a year\"))\n",
    "print(calendar.month(y,m))"
   ]
  },
  {
   "cell_type": "code",
   "execution_count": 12,
   "metadata": {},
   "outputs": [
    {
     "name": "stdout",
     "output_type": "stream",
     "text": [
      "Hey! I am anil\n",
      "       you know the steps you followed\n",
      "     in your college premiseses and \n",
      "       contribute for the class\n"
     ]
    }
   ],
   "source": [
    " #basics 1:12\n",
    "print(\"\"\"Hey! I am anil\n",
    "        you know the steps you followed\n",
    "      in your college premiseses and \n",
    "        contribute for the class\"\"\")"
   ]
  },
  {
   "cell_type": "code",
   "execution_count": 14,
   "metadata": {},
   "outputs": [
    {
     "name": "stdout",
     "output_type": "stream",
     "text": [
      "7315 days, 0:00:00\n"
     ]
    }
   ],
   "source": [
    "#basics 1:13\n",
    "from datetime import date\n",
    "import time\n",
    "f_date=date(2003,2,15)\n",
    "l_date=date(2023,2,25)\n",
    "d_date=l_date-f_date\n",
    "#year=d_date/365\n",
    "print(d_date)"
   ]
  },
  {
   "cell_type": "code",
   "execution_count": 1,
   "metadata": {},
   "outputs": [
    {
     "name": "stdout",
     "output_type": "stream",
     "text": [
      "the volume of sphere: 1072.330292425316\n"
     ]
    }
   ],
   "source": [
    "#basics 1:14\n",
    "from math import pi\n",
    "r =float(input(\"enter radius of sphere:\"))\n",
    "v=4.0/3.0*pi*r*pow(r,3)\n",
    "print('the volume of sphere:',v)"
   ]
  },
  {
   "cell_type": "code",
   "execution_count": null,
   "metadata": {},
   "outputs": [],
   "source": []
  }
 ],
 "metadata": {
  "kernelspec": {
   "display_name": "Python 3",
   "language": "python",
   "name": "python3"
  },
  "language_info": {
   "codemirror_mode": {
    "name": "ipython",
    "version": 3
   },
   "file_extension": ".py",
   "mimetype": "text/x-python",
   "name": "python",
   "nbconvert_exporter": "python",
   "pygments_lexer": "ipython3",
   "version": "3.12.2"
  }
 },
 "nbformat": 4,
 "nbformat_minor": 2
}

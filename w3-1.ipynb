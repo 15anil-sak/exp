{
 "cells": [
  {
   "cell_type": "code",
   "execution_count": 1,
   "metadata": {},
   "outputs": [
    {
     "name": "stdout",
     "output_type": "stream",
     "text": [
      "Twinkle, twinkle, little star, \n",
      "\tHow I wonder what you are! \n",
      "\t\tUp above the world so high, \n",
      "\t\tLike a diamond in the sky. \n",
      "Twinkle, twinkle, little star, \n",
      "\tHow I wonder what you are!\n"
     ]
    }
   ],
   "source": [
    "##basics- 1:1\n",
    "print(\"Twinkle, twinkle, little star, \\n\\tHow I wonder what you are! \\n\\t\\tUp above the world so high, \\n\\t\\tLike a diamond in the sky. \\nTwinkle, twinkle, little star, \\n\\tHow I wonder what you are!\")\n"
   ]
  },
  {
   "cell_type": "code",
   "execution_count": 2,
   "metadata": {},
   "outputs": [
    {
     "name": "stdout",
     "output_type": "stream",
     "text": [
      "python_version\n",
      "3.12.2 (tags/v3.12.2:6abddd9, Feb  6 2024, 21:26:36) [MSC v.1937 64 bit (AMD64)]\n",
      "sys version\n",
      "version information\n",
      "sys.version_info(major=3, minor=12, micro=2, releaselevel='final', serial=0)\n"
     ]
    }
   ],
   "source": [
    "##basic 1:2\n",
    "import sys\n",
    "print(\"python_version\")\n",
    "print(sys.version)\n",
    "print(\"sys version\")\n",
    "print(\"version information\")\n",
    "print(sys. version_info)"
   ]
  },
  {
   "cell_type": "code",
   "execution_count": 3,
   "metadata": {},
   "outputs": [
    {
     "name": "stdout",
     "output_type": "stream",
     "text": [
      "current data and time:\n",
      "08-05-24 23:18:36\n"
     ]
    }
   ],
   "source": [
    "##basic 1:3\n",
    "import datetime\n",
    "x=datetime.datetime.now()\n",
    "print(\"current data and time:\")\n",
    "print(x.strftime(\"%d-%m-%y %H:%M:%S\"))\n"
   ]
  },
  {
   "cell_type": "code",
   "execution_count": 5,
   "metadata": {},
   "outputs": [
    {
     "name": "stdout",
     "output_type": "stream",
     "text": [
      " the area of circle 50.26548245743669 with radius 4.0 is\n"
     ]
    }
   ],
   "source": [
    "#bascics 1:4\n",
    "from math import pi\n",
    "import math\n",
    "r=float(input(\"enter the radius value of a circle:\"))\n",
    "area=pi*math.pow(r,2)\n",
    "print(\" the area of circle {} with radius {} is\".format(area,r))"
   ]
  },
  {
   "cell_type": "code",
   "execution_count": 10,
   "metadata": {},
   "outputs": [
    {
     "name": "stdout",
     "output_type": "stream",
     "text": [
      "hello kumar anil\n"
     ]
    }
   ],
   "source": [
    "#basics 1:5\n",
    "fname=input(\"enter your first name:\")\n",
    "lname=input(\"enter your last name\")\n",
    "print(\"hello \"+ lname+\" \"+fname)"
   ]
  },
  {
   "cell_type": "code",
   "execution_count": 11,
   "metadata": {},
   "outputs": [
    {
     "name": "stdout",
     "output_type": "stream",
     "text": [
      "list: ['1', '5', '4', '7', '3']\n",
      "tuple: ('1', ',', '5', ',', '4', ',', '7', ',', '3')\n"
     ]
    }
   ],
   "source": [
    "#basics 1:6\n",
    "values=input(\"enter the numbers:\")\n",
    "list=values.split(\",\")\n",
    "tuple=tuple(values)\n",
    "print('list:',list)\n",
    "print('tuple:',tuple)"
   ]
  },
  {
   "cell_type": "code",
   "execution_count": null,
   "metadata": {},
   "outputs": [],
   "source": []
  }
 ],
 "metadata": {
  "kernelspec": {
   "display_name": "Python 3",
   "language": "python",
   "name": "python3"
  },
  "language_info": {
   "codemirror_mode": {
    "name": "ipython",
    "version": 3
   },
   "file_extension": ".py",
   "mimetype": "text/x-python",
   "name": "python",
   "nbconvert_exporter": "python",
   "pygments_lexer": "ipython3",
   "version": "3.12.2"
  }
 },
 "nbformat": 4,
 "nbformat_minor": 2
}

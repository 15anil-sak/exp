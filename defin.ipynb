{
 "cells": [
  {
   "cell_type": "code",
   "execution_count": 3,
   "metadata": {},
   "outputs": [
    {
     "name": "stdout",
     "output_type": "stream",
     "text": [
      "my name is: \n",
      "my name is: \n"
     ]
    }
   ],
   "source": [
    "you=input('enter your name:')\n",
    "print('my name is:',you.upper())\n",
    "\n",
    "print('my name is:',you.lower())"
   ]
  },
  {
   "cell_type": "code",
   "execution_count": 4,
   "metadata": {},
   "outputs": [
    {
     "name": "stdout",
     "output_type": "stream",
     "text": [
      "ilililil\n"
     ]
    }
   ],
   "source": [
    "def inserted_end(str):\n",
    "  string=str[-2:]\n",
    "  return string*4\n",
    "print(inserted_end('anil'))"
   ]
  },
  {
   "cell_type": "code",
   "execution_count": null,
   "metadata": {},
   "outputs": [],
   "source": [
    "#print first three charcters in a string\n",
    "def three_word(str1):\n",
    "  str1=input('enter a value:')\n",
    "  if len(str1)<3:\n",
    "    return str1\n",
    "  else:\n",
    "   return str1[:3]\n",
    "print(three_word('anil'))"
   ]
  }
 ],
 "metadata": {
  "kernelspec": {
   "display_name": "Python 3",
   "language": "python",
   "name": "python3"
  },
  "language_info": {
   "codemirror_mode": {
    "name": "ipython",
    "version": 3
   },
   "file_extension": ".py",
   "mimetype": "text/x-python",
   "name": "python",
   "nbconvert_exporter": "python",
   "pygments_lexer": "ipython3",
   "version": "3.12.2"
  }
 },
 "nbformat": 4,
 "nbformat_minor": 2
}

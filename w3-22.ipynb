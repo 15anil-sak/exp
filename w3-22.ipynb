{
 "cells": [
  {
   "cell_type": "code",
   "execution_count": 12,
   "metadata": {},
   "outputs": [
    {
     "name": "stdout",
     "output_type": "stream",
     "text": [
      "False\n"
     ]
    }
   ],
   "source": [
    "#w3-2.1:\n",
    "def match_digit(n):\n",
    "    for i in range(len(n)-1):\n",
    "       if n[i]==n[i+1]:\n",
    "         return False\n",
    "    return True\n",
    "print(match_digit([2,4,5,7,7,8]))"
   ]
  },
  {
   "cell_type": "code",
   "execution_count": 17,
   "metadata": {},
   "outputs": [
    {
     "name": "stdout",
     "output_type": "stream",
     "text": [
      "iaeuo\n"
     ]
    }
   ],
   "source": [
    "#w3-2.2:\n",
    "import random\n",
    "char_list=['a','e','i','o','u']\n",
    "random.shuffle(char_list)\n",
    "print(''.join(char_list))"
   ]
  },
  {
   "cell_type": "code",
   "execution_count": 7,
   "metadata": {},
   "outputs": [
    {
     "name": "stdout",
     "output_type": "stream",
     "text": [
      "[1, 3, 5, 1, 3, 5, 1]\n"
     ]
    }
   ],
   "source": [
    "def third_number(n):\n",
    "    for i in range(3,len(n)):\n",
    "        n[i]=n[i-3]\n",
    "    return n\n",
    "print(third_number([1,3,5,7,9,35,7]))"
   ]
  },
  {
   "cell_type": "code",
   "execution_count": null,
   "metadata": {},
   "outputs": [],
   "source": []
  }
 ],
 "metadata": {
  "kernelspec": {
   "display_name": "Python 3",
   "language": "python",
   "name": "python3"
  },
  "language_info": {
   "codemirror_mode": {
    "name": "ipython",
    "version": 3
   },
   "file_extension": ".py",
   "mimetype": "text/x-python",
   "name": "python",
   "nbconvert_exporter": "python",
   "pygments_lexer": "ipython3",
   "version": "3.12.2"
  }
 },
 "nbformat": 4,
 "nbformat_minor": 2
}

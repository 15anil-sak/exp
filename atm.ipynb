{
 "cells": [
  {
   "cell_type": "code",
   "execution_count": 12,
   "metadata": {},
   "outputs": [
    {
     "name": "stdout",
     "output_type": "stream",
     "text": [
      "\n",
      "           1.deposite\n",
      "          2.withdraw\n",
      "          3.mini_statement\n",
      "          4.exit\n",
      "          \n",
      "exit\n"
     ]
    }
   ],
   "source": [
    "name='anil'\n",
    "password=123456\n",
    "x=input('enter your name:')\n",
    "y=int(input('enter your password:'))\n",
    "if x==name and y==password:\n",
    "    print('''\n",
    "           1.deposite\n",
    "          2.withdraw\n",
    "          3.mini_statement\n",
    "          4.exit\n",
    "          ''')\n",
    "    amount=5000\n",
    "    option=int(input('enter your choice:'))\n",
    "    if option==1:\n",
    "        deposite=int(input('enter your money:'))\n",
    "        amount+=deposite\n",
    "        print('total amount is:',amount)\n",
    "    elif option==2:\n",
    "        withdraw=int(input('enter money:',withdraw))\n",
    "        amount-=withdraw\n",
    "        print('your amount is:',amount)\n",
    "    elif option==3:\n",
    "        print(''' --------\n",
    "              custmor name:anil\n",
    "              total amount=5000\n",
    "              --------------''')\n",
    "    elif option ==4:\n",
    "        print('exit')\n",
    "else:\n",
    "    print(\"given credits are not valid\")\n",
    "\n"
   ]
  },
  {
   "cell_type": "code",
   "execution_count": null,
   "metadata": {},
   "outputs": [],
   "source": []
  },
  {
   "cell_type": "code",
   "execution_count": null,
   "metadata": {},
   "outputs": [],
   "source": []
  }
 ],
 "metadata": {
  "kernelspec": {
   "display_name": "Python 3",
   "language": "python",
   "name": "python3"
  },
  "language_info": {
   "codemirror_mode": {
    "name": "ipython",
    "version": 3
   },
   "file_extension": ".py",
   "mimetype": "text/x-python",
   "name": "python",
   "nbconvert_exporter": "python",
   "pygments_lexer": "ipython3",
   "version": "3.12.2"
  }
 },
 "nbformat": 4,
 "nbformat_minor": 2
}
